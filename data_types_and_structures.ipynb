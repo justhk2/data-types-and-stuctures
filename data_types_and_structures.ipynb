{
  "nbformat": 4,
  "nbformat_minor": 0,
  "metadata": {
    "colab": {
      "provenance": []
    },
    "kernelspec": {
      "name": "python3",
      "display_name": "Python 3"
    },
    "language_info": {
      "name": "python"
    }
  },
  "cells": [
    {
      "cell_type": "code",
      "execution_count": null,
      "metadata": {
        "id": "eKcy2uhoPuQ0"
      },
      "outputs": [],
      "source": []
    },
    {
      "cell_type": "markdown",
      "source": [
        "1.What are data structures, and why are they important?\n",
        "\n",
        "Answer:\n",
        "Data structures are ways of organizing and storing data so it can be accessed and modified efficiently. They are important because they determine how data can be processed, how fast operations like searching or sorting are, and how memory is used. Examples include lists, tuples, sets, and dictionaries in Python.\n",
        "\n",
        "\n",
        "..\n",
        "\n",
        "\n",
        "2.Explain the difference between mutable and immutable data types with examples\n",
        "\n",
        "Answer:\n",
        "Mutable data types can be changed after they are created.\n",
        "Example: Lists are mutable: my_list = [1, 2]; my_list.append(3) changes it to [1, 2, 3].\n",
        "\n",
        "Immutable data types cannot be changed after creation.\n",
        "Example: Strings and tuples are immutable: my_str = \"hello\" → you can’t change my_str[0].\n",
        "\n",
        "\n",
        "..\n",
        "\n",
        "3.What are the main differences between lists and tuples in Python?\n",
        "\n",
        "Answer:\n",
        "\n",
        "Lists are mutable: elements can be added, removed, or changed.\n",
        "\n",
        "Tuples are immutable: once created, they cannot be changed.\n",
        "\n",
        "Lists use more memory than tuples but offer more flexibility.\n",
        "\n",
        "Tuples can be used as dictionary keys; lists cannot.\n",
        "\n",
        "\n",
        "..\n",
        "\n",
        "\n",
        "4.Describe how dictionaries store data\n",
        "\n",
        "Answer:\n",
        "Dictionaries store data as key-value pairs. Each key is hashed to determine where its value is stored in memory, making lookup fast. Example: {'name': 'Alex', 'age': 25} — here, 'name' is a key, 'Alex' is its value.\n",
        "\n",
        "\n",
        "..\n",
        "\n",
        "\n",
        "5.Why might you use a set instead of a list in Python?\n",
        "\n",
        "Answer:\n",
        "Sets are used when you need unique items and don’t care about order. For example, to remove duplicates from a list: unique_numbers = set([1, 2, 2, 3]) → {1, 2, 3}. Sets also allow fast membership tests.\n",
        "\n",
        "\n",
        "..\n",
        "\n",
        "\n",
        "6.What is a string in Python, and how is it different from a list?\n",
        "\n",
        "Answer:\n",
        "A string is an immutable sequence of characters. A list is a mutable sequence of elements, which can be of any type. For example, 'hello' is a string; ['h', 'e', 'l', 'l', 'o'] is a list.\n",
        "\n",
        "..\n",
        "\n",
        "\n",
        "\n",
        "7.How do tuples ensure data integrity in Python?\n",
        "\n",
        "Answer:\n",
        "Tuples are immutable, so their contents cannot be changed accidentally. This makes them safe for storing constant, unchanging data, or using them as dictionary keys or elements of sets.\n",
        "\n",
        "\n",
        "..\n",
        "\n",
        "\n",
        "8.What is a hash table, and how does it relate to dictionaries in Python?\n",
        "\n",
        "Answer:\n",
        "A hash table is a data structure that maps keys to values using a hash function to compute an index. Python dictionaries are built on hash tables — they use keys’ hash values to store and quickly retrieve corresponding values.\n",
        "\n",
        "\n",
        "..\n",
        "\n",
        "\n",
        "9.Can lists contain different data types in Python?\n",
        "\n",
        "Answer:\n",
        "Yes. Python lists can hold mixed data types:\n",
        "Example: [1, \"hello\", 3.5, [2, 3]] is valid.\n",
        "\n",
        "\n",
        "..\n",
        "\n",
        "\n",
        "10.Explain why strings are immutable in Python\n",
        "\n",
        "Answer:\n",
        "Strings are immutable to improve performance and security — they can be safely shared and reused without risk of unexpected modification. This enables Python to optimize memory with techniques like string interning.\n",
        "\n",
        "\n",
        "..\n",
        "\n",
        "\n",
        "11.What advantages do dictionaries offer over lists for certain tasks?\n",
        "\n",
        "Answer:\n",
        "\n",
        "Faster lookups: accessing a value by key in a dictionary is generally O(1), while searching a list is O(n).\n",
        "\n",
        "Better data organization: dictionaries store relationships between keys and values.\n",
        "\n",
        "Clearer code: they make data more meaningful (student['marks'] vs. a list index).\n",
        "\n",
        "\n",
        "..\n",
        "\n",
        "\n",
        "12.Describe a scenario where using a tuple would be preferable over a list\n",
        "\n",
        "Answer:\n",
        "When you need an unchangeable sequence of items — e.g., coordinates (x, y), RGB colors (255, 0, 0), or as keys in a dictionary {(x, y): value}.\n",
        "\n",
        "\n",
        "..\n",
        "\n",
        "\n",
        "13.How do sets handle duplicate values in Python?\n",
        "\n",
        "Answer:\n",
        "Sets automatically discard duplicates. Adding a value that already exists does nothing:\n",
        "{1, 2, 2, 3} → {1, 2, 3}.\n",
        "\n",
        "\n",
        "..\n",
        "\n",
        "\n",
        "14.How does the “in” keyword work differently for lists and dictionaries?\n",
        "\n",
        "Answer:\n",
        "\n",
        "For lists, in checks if a value exists in the list.\n",
        "\n",
        "For dictionaries, in checks if a key exists (not the value).\n",
        "\n",
        "\n",
        "..\n",
        "\n",
        "\n",
        "15.Can you modify the elements of a tuple? Explain why or why not\n",
        "\n",
        "Answer:\n",
        "No. Tuples are immutable, so you can’t change, add, or remove their elements once created.\n",
        "\n",
        "\n",
        "..\n",
        "\n",
        "\n",
        "16.What is a nested dictionary, and give an example of its use case\n",
        "\n",
        "Answer:\n",
        "A nested dictionary is a dictionary inside another dictionary.\n",
        "Example:\n",
        "\n",
        "python\n",
        "Copy\n",
        "Edit\n",
        "student = {\n",
        "    'name': 'Alice',\n",
        "    'grades': {'math': 90, 'science': 85}\n",
        "}\n",
        "Use case: storing related, structured data (like JSON).\n",
        "\n",
        "\n",
        "..\n",
        "\n",
        "\n",
        "17.Describe the time complexity of accessing elements in a dictionary\n",
        "\n",
        "Answer:\n",
        "Accessing an element by key in a dictionary is O(1) on average because it uses a hash table.\n",
        "\n",
        "\n",
        "..\n",
        "\n",
        "\n",
        "18.In what situations are lists preferred over dictionaries?\n",
        "\n",
        "Answer:\n",
        "\n",
        "When you need an ordered collection.\n",
        "\n",
        "When keys are not needed — only positional access.\n",
        "\n",
        "For simple sequences like [1, 2, 3, 4].\n",
        "\n",
        "..\n",
        "\n",
        "\n",
        "\n",
        "19.Why are dictionaries considered unordered, and how does that affect data retrieval?\n",
        "\n",
        "Answer:\n",
        "In versions before Python 3.7, dictionaries did not guarantee order. From Python 3.7+, they preserve insertion order, but conceptually, they’re unordered because you retrieve data by key, not by position.\n",
        "\n",
        "\n",
        "..\n",
        "\n",
        "\n",
        "20.Explain the difference between a list and a dictionary in terms of data retrieval.\n",
        "\n",
        "Answer:\n",
        "\n",
        "List: Access by index/position, e.g., my_list[0].\n",
        "\n",
        "Dictionary: Access by key, e.g., my_dict['name'].\n",
        "\n",
        "\n",
        "\n"
      ],
      "metadata": {
        "id": "6ukpKmDdP4cV"
      }
    },
    {
      "cell_type": "code",
      "source": [
        "#4.Write a code to create a string with your name and print it.\n",
        "\n",
        "#this is my code\n",
        "\n",
        "name = \"Harikrishna\"\n",
        "print(name)\n"
      ],
      "metadata": {
        "colab": {
          "base_uri": "https://localhost:8080/"
        },
        "id": "baHhpj4tWD5E",
        "outputId": "8fc3049b-dade-4cca-a546-d919a018e7ca"
      },
      "execution_count": 6,
      "outputs": [
        {
          "output_type": "stream",
          "name": "stdout",
          "text": [
            "Harikrishna\n"
          ]
        }
      ]
    },
    {
      "cell_type": "code",
      "source": [
        "#Write a code to find the length of the string \"Hello World\".\n",
        "#this is my code\n",
        "\n",
        "\n",
        "text = \"Hello World\"\n",
        "print(len(text))\n",
        "\n"
      ],
      "metadata": {
        "colab": {
          "base_uri": "https://localhost:8080/"
        },
        "id": "QZPzKPH8XlOn",
        "outputId": "22489a67-3587-46c8-9bdd-b4c8ebdb077a"
      },
      "execution_count": 7,
      "outputs": [
        {
          "output_type": "stream",
          "name": "stdout",
          "text": [
            "11\n"
          ]
        }
      ]
    },
    {
      "cell_type": "code",
      "source": [
        "#3.Write a code to slice the first 3 characters from the string \"Python Programming\"\n",
        "\n",
        "text = \"Python Programming\"\n",
        "print(text[:3])\n"
      ],
      "metadata": {
        "colab": {
          "base_uri": "https://localhost:8080/"
        },
        "id": "8qlhdvcUS2FM",
        "outputId": "fff83b27-737c-4e80-ab05-2fc4b1b6c354"
      },
      "execution_count": 8,
      "outputs": [
        {
          "output_type": "stream",
          "name": "stdout",
          "text": [
            "Pyt\n"
          ]
        }
      ]
    },
    {
      "cell_type": "code",
      "source": [
        "#Write a code to convert the string \"hello\" to uppercase.\n",
        "text = \"hello\"\n",
        "print(text.upper())\n"
      ],
      "metadata": {
        "id": "HK00PfHtYuU3"
      },
      "execution_count": 9,
      "outputs": []
    },
    {
      "cell_type": "code",
      "source": [
        "#Write a code to replace the word \"apple\" with \"orange\" in the string \"I like apple\".text = \"I like apple\"\n",
        "new_text = text.replace(\"apple\", \"orange\")\n",
        "print(new_text)\n",
        "\n"
      ],
      "metadata": {
        "colab": {
          "base_uri": "https://localhost:8080/"
        },
        "id": "TYR-FkBwYytq",
        "outputId": "867fcdc1-5532-4d08-b086-f060568f2d93"
      },
      "execution_count": 16,
      "outputs": [
        {
          "output_type": "stream",
          "name": "stdout",
          "text": [
            "Python Programming\n"
          ]
        }
      ]
    },
    {
      "cell_type": "code",
      "source": [
        "#Write a code to create a list with numbers 1 to 5 and print it.\n",
        "numbers = [1, 2, 3, 4, 5]\n",
        "print(numbers)\n"
      ],
      "metadata": {
        "id": "1cZLm8LtY25Q"
      },
      "execution_count": 11,
      "outputs": []
    },
    {
      "cell_type": "code",
      "source": [
        "#Write a code to append the number 10 to the list [1, 2, 3, 4].\n",
        "numbers = [1, 2, 3, 4]\n",
        "numbers.append(10)\n",
        "print(numbers)\n",
        "\n"
      ],
      "metadata": {
        "id": "jKuhsav0Y7qg"
      },
      "execution_count": 12,
      "outputs": []
    },
    {
      "cell_type": "code",
      "source": [
        "#Write a code to remove the number 3 from the list [1, 2, 3, 4, 5].\n",
        "numbers = [1, 2, 3, 4, 5]\n",
        "numbers.remove(3)\n",
        "print(numbers)\n"
      ],
      "metadata": {
        "id": "GBVFnoUGZJYw"
      },
      "execution_count": 13,
      "outputs": []
    },
    {
      "cell_type": "code",
      "source": [
        "#Write a code to access the second element in the list ['a', 'b', 'c', 'd']P\n",
        "letters = ['a', 'b', 'c', 'd']\n",
        "print(letters[1])\n"
      ],
      "metadata": {
        "id": "-pDO5ggQZKtn"
      },
      "execution_count": 14,
      "outputs": []
    },
    {
      "cell_type": "code",
      "source": [
        "#Write a code to reverse the list [10, 20, 30, 40, 50].\n",
        "numbers = [10, 20, 30, 40, 50]\n",
        "numbers.reverse()\n",
        "print(numbers)\n"
      ],
      "metadata": {
        "colab": {
          "base_uri": "https://localhost:8080/"
        },
        "id": "djd3Y7MyZPEs",
        "outputId": "649a6d7c-41e2-4f59-a19e-40ce278e1ae8"
      },
      "execution_count": 17,
      "outputs": [
        {
          "output_type": "stream",
          "name": "stdout",
          "text": [
            "[50, 40, 30, 20, 10]\n"
          ]
        }
      ]
    },
    {
      "cell_type": "code",
      "source": [
        "# Write a code to create a tuple with the elements 100, 200, 300 and print it.\n",
        "my_tuple = (100, 200, 300)\n",
        "print(\"Tuple:\", my_tuple)"
      ],
      "metadata": {
        "colab": {
          "base_uri": "https://localhost:8080/"
        },
        "id": "trx0dzswZwq8",
        "outputId": "5d1bbd85-83f0-43f9-c25a-6571d0897f2a"
      },
      "execution_count": 19,
      "outputs": [
        {
          "output_type": "stream",
          "name": "stdout",
          "text": [
            "Tuple: (100, 200, 300)\n"
          ]
        }
      ]
    },
    {
      "cell_type": "code",
      "source": [
        " # Write a code to access the second-to-last element of the tuple ('red', 'green', 'blue', 'yellow')\n",
        " colors = ('red', 'green', 'blue', 'yellow')\n",
        "\n",
        "print(\"Second-to-last element:\", colors[-2])"
      ],
      "metadata": {
        "colab": {
          "base_uri": "https://localhost:8080/"
        },
        "id": "JYtW7SizZ2uv",
        "outputId": "a4a8f36e-e25b-4c44-abaf-e904026a7e6c"
      },
      "execution_count": 20,
      "outputs": [
        {
          "output_type": "stream",
          "name": "stdout",
          "text": [
            "Second-to-last element: blue\n"
          ]
        }
      ]
    },
    {
      "cell_type": "code",
      "source": [
        "#. Write a code to find the minimum number in the tuple (10, 20, 5, 15).\n",
        "numbers = (10, 20, 5, 15)\n",
        "print(\"Minimum number:\", min(numbers))"
      ],
      "metadata": {
        "colab": {
          "base_uri": "https://localhost:8080/"
        },
        "id": "h1X2LqqGZ412",
        "outputId": "6bf87349-fe55-4299-c3c9-ba2e6d4718be"
      },
      "execution_count": 40,
      "outputs": [
        {
          "output_type": "stream",
          "name": "stdout",
          "text": [
            "Minimum number: 5\n"
          ]
        }
      ]
    },
    {
      "cell_type": "code",
      "source": [
        "# Write a code to find the index of the element \"cat\" in the tuple ('dog', 'cat', 'rabbit').\n",
        "animals = ('dog', 'cat', 'rabbit')\n",
        "print(\"Index of 'cat':\", animals.index('cat'))"
      ],
      "metadata": {
        "colab": {
          "base_uri": "https://localhost:8080/"
        },
        "id": "H4viFZ0HZ-He",
        "outputId": "04659aa4-be77-4877-910f-b91808314bc3"
      },
      "execution_count": 39,
      "outputs": [
        {
          "output_type": "stream",
          "name": "stdout",
          "text": [
            "Index of 'cat': 1\n"
          ]
        }
      ]
    },
    {
      "cell_type": "code",
      "source": [
        "#Write a code to create a tuple containing three different fruits and check if \"kiwi\" is in it\n",
        "fruits = ('apple', 'banana', 'mango')\n",
        "print(\"Is 'kiwi' in fruits?\", 'kiwi' in fruits)"
      ],
      "metadata": {
        "colab": {
          "base_uri": "https://localhost:8080/"
        },
        "id": "4FZA4NpOZ-u6",
        "outputId": "ffee3021-e0ae-4641-ddd8-0fa72704e4b2"
      },
      "execution_count": 24,
      "outputs": [
        {
          "output_type": "stream",
          "name": "stdout",
          "text": [
            "Is 'kiwi' in fruits? False\n"
          ]
        }
      ]
    },
    {
      "cell_type": "code",
      "source": [
        "#Write a code to create a set with the elements 'a', 'b', 'c' and print it.\n",
        "\n",
        "\n",
        "my_set = {'a', 'b', 'c'}\n",
        "print(\"Set:\", my_set)\n",
        "\n"
      ],
      "metadata": {
        "colab": {
          "base_uri": "https://localhost:8080/"
        },
        "id": "LuXYEg9ZaBa_",
        "outputId": "ad14d75a-57d1-4827-9f7d-d74225b5fbec"
      },
      "execution_count": 25,
      "outputs": [
        {
          "output_type": "stream",
          "name": "stdout",
          "text": [
            "Set: {'a', 'b', 'c'}\n"
          ]
        }
      ]
    },
    {
      "cell_type": "code",
      "source": [
        "#Write a code to clear all elements from the set {1, 2, 3, 4, 5}.\n",
        "numbers_set = {1, 2, 3, 4, 5}\n",
        "numbers_set.clear()\n",
        "print(\"Cleared set:\", numbers_set)"
      ],
      "metadata": {
        "colab": {
          "base_uri": "https://localhost:8080/"
        },
        "id": "xsULxGgKaFP1",
        "outputId": "aa125484-1fd9-4835-91ee-07674113b2ac"
      },
      "execution_count": 26,
      "outputs": [
        {
          "output_type": "stream",
          "name": "stdout",
          "text": [
            "Cleared set: set()\n"
          ]
        }
      ]
    },
    {
      "cell_type": "code",
      "source": [
        "#Write a code to remove the element 4 from the set {1, 2, 3, 4}.\n",
        "num_set = {1, 2, 3, 4}\n",
        "num_set.remove(4)\n",
        "print(\"Set after removing 4:\", num_set)\n"
      ],
      "metadata": {
        "colab": {
          "base_uri": "https://localhost:8080/"
        },
        "id": "5RbgD5OUaJCa",
        "outputId": "95ddb6ca-68a6-479f-f69b-5e99f0f91f05"
      },
      "execution_count": 27,
      "outputs": [
        {
          "output_type": "stream",
          "name": "stdout",
          "text": [
            "Set after removing 4: {1, 2, 3}\n"
          ]
        }
      ]
    },
    {
      "cell_type": "code",
      "source": [
        "#Write a code to find the union of two sets {1, 2, 3} and {3, 4, 5}.\n",
        "\n",
        "\n",
        "set1 = {1, 2, 3}\n",
        "set2 = {3, 4, 5}\n",
        "union_set = set1.union(set2)\n",
        "print(\"Union:\", union_set)\n"
      ],
      "metadata": {
        "colab": {
          "base_uri": "https://localhost:8080/"
        },
        "id": "6v3G6DL3aMWL",
        "outputId": "e84294e2-c09c-4c7e-e507-c7fa1a5b477d"
      },
      "execution_count": 28,
      "outputs": [
        {
          "output_type": "stream",
          "name": "stdout",
          "text": [
            "Union: {1, 2, 3, 4, 5}\n"
          ]
        }
      ]
    },
    {
      "cell_type": "code",
      "source": [
        "# Write a code to find the intersection of two sets {1, 2, 3} and {2, 3, 4}\n",
        "set3 = {1, 2, 3}\n",
        "set4 = {2, 3, 4}\n",
        "intersection_set = set3.intersection(set4)\n",
        "print(\"Intersection:\", intersection_set)"
      ],
      "metadata": {
        "colab": {
          "base_uri": "https://localhost:8080/"
        },
        "id": "omLLbkawaPnE",
        "outputId": "8bb35240-6c6f-4937-de90-cc057ff1eaf1"
      },
      "execution_count": 29,
      "outputs": [
        {
          "output_type": "stream",
          "name": "stdout",
          "text": [
            "Intersection: {2, 3}\n"
          ]
        }
      ]
    },
    {
      "cell_type": "code",
      "source": [
        "#Write a code to create a dictionary with the keys \"name\", \"age\", and \"city\", and print it.\n",
        "person = {'name': 'Alice', 'age': 30, 'city': 'Paris'}\n",
        "print(\"Dictionary:\", person)"
      ],
      "metadata": {
        "colab": {
          "base_uri": "https://localhost:8080/"
        },
        "id": "Pim-bzlXaR4I",
        "outputId": "0a52cc9a-621d-4535-dba7-25b72bef0dd6"
      },
      "execution_count": 30,
      "outputs": [
        {
          "output_type": "stream",
          "name": "stdout",
          "text": [
            "Dictionary: {'name': 'Alice', 'age': 30, 'city': 'Paris'}\n"
          ]
        }
      ]
    },
    {
      "cell_type": "code",
      "source": [
        "#Write a code to add a new key-value pair \"country\": \"USA\" to the dictionary {'name': 'John', 'age': 25}.\n",
        "person2 = {'name': 'John', 'age': 25}\n",
        "person2['country'] = 'USA'\n",
        "print(\"Updated dictionary:\", person2)"
      ],
      "metadata": {
        "colab": {
          "base_uri": "https://localhost:8080/"
        },
        "id": "7RbPd5lqaVTp",
        "outputId": "b651383d-9159-4d1d-84a5-7e1f9067abed"
      },
      "execution_count": 31,
      "outputs": [
        {
          "output_type": "stream",
          "name": "stdout",
          "text": [
            "Updated dictionary: {'name': 'John', 'age': 25, 'country': 'USA'}\n"
          ]
        }
      ]
    },
    {
      "cell_type": "code",
      "source": [
        "#Write a code to access the value associated with the key \"name\" in the dictionary {'name': 'Alice', 'age': 30}\n",
        "person3 = {'name': 'Alice', 'age': 30}\n",
        "print(\"Name:\", person3['name'])"
      ],
      "metadata": {
        "colab": {
          "base_uri": "https://localhost:8080/"
        },
        "id": "Rvrj41oUaXew",
        "outputId": "5a5f72c9-34c0-4bc8-bbb5-303fb6083ee3"
      },
      "execution_count": 32,
      "outputs": [
        {
          "output_type": "stream",
          "name": "stdout",
          "text": [
            "Name: Alice\n"
          ]
        }
      ]
    },
    {
      "cell_type": "code",
      "source": [
        "#. Write a code to remove the key \"age\" from the dictionary {'name': 'Bob', 'age': 22, 'city': 'New York'}.\n",
        "person4 = {'name': 'Bob', 'age': 22, 'city': 'New York'}\n",
        "person4.pop('age')\n",
        "print(\"Dictionary after removing 'age':\", person4)\n"
      ],
      "metadata": {
        "colab": {
          "base_uri": "https://localhost:8080/"
        },
        "id": "So4r6qejaYMo",
        "outputId": "21354681-f8dd-4af3-c1f7-e6c9fddd62f2"
      },
      "execution_count": 33,
      "outputs": [
        {
          "output_type": "stream",
          "name": "stdout",
          "text": [
            "Dictionary after removing 'age': {'name': 'Bob', 'city': 'New York'}\n"
          ]
        }
      ]
    },
    {
      "cell_type": "code",
      "source": [
        "#Write a code to check if the key \"city\" exists in the dictionary {'name': 'Alice', 'city': 'Paris'}.\n",
        "person5 = {'name': 'Alice', 'city': 'Paris'}\n",
        "print(\"Is 'city' a key?\", 'city' in person5)"
      ],
      "metadata": {
        "colab": {
          "base_uri": "https://localhost:8080/"
        },
        "id": "bYOiDuhraat7",
        "outputId": "3046946f-d357-4b34-8902-8f0850113351"
      },
      "execution_count": 34,
      "outputs": [
        {
          "output_type": "stream",
          "name": "stdout",
          "text": [
            "Is 'city' a key? True\n"
          ]
        }
      ]
    },
    {
      "cell_type": "code",
      "source": [
        "# Write a code to create a list, a tuple, and a dictionary, and print them all.\n",
        "\n",
        "\n",
        "my_list = [1, 2, 3]\n",
        "my_tuple2 = (4, 5, 6)\n",
        "my_dict = {'a': 1, 'b': 2}\n",
        "print(\"List:\", my_list)\n",
        "print(\"Tuple:\", my_tuple2)\n",
        "print(\"Dictionary:\", my_dict)"
      ],
      "metadata": {
        "colab": {
          "base_uri": "https://localhost:8080/"
        },
        "id": "N7yRhd6jac6a",
        "outputId": "f86770ee-2ac0-46cb-f0e9-5504dff7d3a3"
      },
      "execution_count": 35,
      "outputs": [
        {
          "output_type": "stream",
          "name": "stdout",
          "text": [
            "List: [1, 2, 3]\n",
            "Tuple: (4, 5, 6)\n",
            "Dictionary: {'a': 1, 'b': 2}\n"
          ]
        }
      ]
    },
    {
      "cell_type": "code",
      "source": [
        "#Write a code to create a list of 5 random numbers between 1 and 100, sort it in ascending order, and print the result\n",
        "import random\n",
        "random_list = [random.randint(1, 100) for _ in range(5)]\n",
        "random_list.sort()\n",
        "print(\"Sorted random list:\", random_list)"
      ],
      "metadata": {
        "colab": {
          "base_uri": "https://localhost:8080/"
        },
        "id": "cR9QudivafEu",
        "outputId": "4c3d35f8-3122-4351-ebe2-988c72040b46"
      },
      "execution_count": 36,
      "outputs": [
        {
          "output_type": "stream",
          "name": "stdout",
          "text": [
            "Sorted random list: [8, 14, 43, 67, 89]\n"
          ]
        }
      ]
    },
    {
      "cell_type": "code",
      "source": [
        "#Write a code to create a list with strings and print the element at the third index.\n",
        "strings = ['apple', 'banana', 'cherry', 'date', 'fig']\n",
        "print(\"Element at index 3:\", strings[3])"
      ],
      "metadata": {
        "colab": {
          "base_uri": "https://localhost:8080/"
        },
        "id": "aF_77cTbah0r",
        "outputId": "d3c97720-3f84-4e26-eea8-a8226533e8d0"
      },
      "execution_count": 37,
      "outputs": [
        {
          "output_type": "stream",
          "name": "stdout",
          "text": [
            "Element at index 3: date\n"
          ]
        }
      ]
    },
    {
      "cell_type": "code",
      "source": [
        "#Write a code to combine two dictionaries into one and print the result\n",
        "dict1 = {'a': 1, 'b': 2}\n",
        "dict2 = {'c': 3, 'd': 4}\n",
        "combined_dict = {**dict1, **dict2}\n",
        "print(\"Combined dictionary:\", combined_dict)"
      ],
      "metadata": {
        "colab": {
          "base_uri": "https://localhost:8080/"
        },
        "id": "hgImhwuMam6P",
        "outputId": "15ef4d57-4a48-4fb8-83cd-2efedcc11195"
      },
      "execution_count": 38,
      "outputs": [
        {
          "output_type": "stream",
          "name": "stdout",
          "text": [
            "Combined dictionary: {'a': 1, 'b': 2, 'c': 3, 'd': 4}\n"
          ]
        }
      ]
    },
    {
      "cell_type": "code",
      "source": [
        "#Write a code to convert a list of strings into a set.\n",
        "string_list = ['apple', 'banana', 'apple', 'cherry']\n",
        "string_set = set(string_list)\n",
        "print(\"Set:\", string_set)"
      ],
      "metadata": {
        "id": "WuHrL9uzapCL"
      },
      "execution_count": null,
      "outputs": []
    }
  ]
}